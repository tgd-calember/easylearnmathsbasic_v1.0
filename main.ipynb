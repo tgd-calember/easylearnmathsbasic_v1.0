{
 "cells": [
  {
   "cell_type": "code",
   "execution_count": 11,
   "metadata": {},
   "outputs": [
    {
     "name": "stdout",
     "output_type": "stream",
     "text": [
      "╔════════════════════════════════════╗\n",
      "║ Nombre : Carlos Alember            ║\n",
      "║ Aula   : 01                        ║\n",
      "║      ISPC May 2022                 ║\n",
      "╠════════════════════════════════════╣\n",
      "║ 1.- Suma +                         ║\n",
      "║ 2.- Resta –                        ║\n",
      "║ 3.- Multiplicación *               ║\n",
      "║ 4.- División /                     ║\n",
      "║ 5.- División entera //             ║\n",
      "║ 6.- Módulo (resto) %               ║\n",
      "║ 7.- Potenciación **                ║\n",
      "║ 8.- Salir                          ║\n",
      "╚════════════════════════════════════╝\n"
     ]
    },
    {
     "ename": "NameError",
     "evalue": "name 'func_suma' is not defined",
     "output_type": "error",
     "traceback": [
      "\u001b[1;31m---------------------------------------------------------------------------\u001b[0m",
      "\u001b[1;31mNameError\u001b[0m                                 Traceback (most recent call last)",
      "\u001b[1;32mc:\\Users\\CondorBN\\easylearnmathsbasic_v1.0\\easylearnmathsbasic_v1.0\\main.ipynb Cell 1'\u001b[0m in \u001b[0;36m<module>\u001b[1;34m\u001b[0m\n\u001b[0;32m     <a href='vscode-notebook-cell:/c%3A/Users/CondorBN/easylearnmathsbasic_v1.0/easylearnmathsbasic_v1.0/main.ipynb#ch0000000?line=25'>26</a>\u001b[0m opcion \u001b[39m=\u001b[39m \u001b[39mint\u001b[39m(\u001b[39minput\u001b[39m(\u001b[39m'\u001b[39m\u001b[39mPor favor seleccione una numero segun la opción: \u001b[39m\u001b[39m'\u001b[39m))\n\u001b[0;32m     <a href='vscode-notebook-cell:/c%3A/Users/CondorBN/easylearnmathsbasic_v1.0/easylearnmathsbasic_v1.0/main.ipynb#ch0000000?line=26'>27</a>\u001b[0m \u001b[39mif\u001b[39;00m opcion \u001b[39m==\u001b[39m \u001b[39m1\u001b[39m:\n\u001b[1;32m---> <a href='vscode-notebook-cell:/c%3A/Users/CondorBN/easylearnmathsbasic_v1.0/easylearnmathsbasic_v1.0/main.ipynb#ch0000000?line=27'>28</a>\u001b[0m     \u001b[39mprint\u001b[39m(\u001b[39m\"\u001b[39m\u001b[39mEl resultado es \u001b[39m\u001b[39m{}\u001b[39;00m\u001b[39m\"\u001b[39m \u001b[39m.\u001b[39mformat(func_suma(a, b))) \n\u001b[0;32m     <a href='vscode-notebook-cell:/c%3A/Users/CondorBN/easylearnmathsbasic_v1.0/easylearnmathsbasic_v1.0/main.ipynb#ch0000000?line=28'>29</a>\u001b[0m \u001b[39melif\u001b[39;00m opcion \u001b[39m==\u001b[39m \u001b[39m2\u001b[39m:\n\u001b[0;32m     <a href='vscode-notebook-cell:/c%3A/Users/CondorBN/easylearnmathsbasic_v1.0/easylearnmathsbasic_v1.0/main.ipynb#ch0000000?line=29'>30</a>\u001b[0m     \u001b[39mprint\u001b[39m(\u001b[39m\"\u001b[39m\u001b[39mFunción resta dos numero enteros\u001b[39m\u001b[39m\"\u001b[39m, opcion)\n",
      "\u001b[1;31mNameError\u001b[0m: name 'func_suma' is not defined"
     ]
    }
   ],
   "source": [
    "# Mensaje dinámico\n",
    "import os\n",
    "import time \n",
    "#Importamos todas las funciones explicitas de nuestro módulo\n",
    "import f_suma\n",
    "#from f_suma import * as funcion_01\n",
    "\n",
    "while True:\n",
    "    os.system (\"clear\")\n",
    "    try:\n",
    "        a = int(input(\"Ingresa el primer numero: \\n\")) #Solicitamos el 1er numero al usuario\n",
    "        b = int(input(\"Ingresa el segundo numero: \\n\"))#Solicitamos el 2do numero al usuario\n",
    "        print(\"╔════════════════════════════════════╗\")\n",
    "        print('║ Nombre : Carlos Alember            ║')\n",
    "        print('║ Aula   : 01                        ║')\n",
    "        print('║      ISPC May 2022                 ║')\n",
    "        print(\"╠════════════════════════════════════╣\")\n",
    "        print('║ 1.- Suma +                         ║')\n",
    "        print('║ 2.- Resta –                        ║')\n",
    "        print('║ 3.- Multiplicación *               ║')\n",
    "        print('║ 4.- División /                     ║')\n",
    "        print('║ 5.- División entera //             ║')\n",
    "        print('║ 6.- Módulo (resto) %               ║')\n",
    "        print('║ 7.- Potenciación **                ║')    \n",
    "        print('║ 8.- Salir                          ║')\n",
    "        print(\"╚════════════════════════════════════╝\")\n",
    "        opcion = int(input('Por favor seleccione una numero segun la opción: '))\n",
    "        if opcion == 1:\n",
    "            print(\"El resultado es {}\" .format(f_suma.func_suma(a, b))) \n",
    "        elif opcion == 2:\n",
    "            print(\"Función resta dos numero enteros\", opcion)\n",
    "        elif opcion == 3:\n",
    "            print(\"Función multiplica dos numero enteros\", opcion)\n",
    "        elif opcion == 4:\n",
    "            print(\"Función división normal entre dos numero enteros\", opcion)\n",
    "        elif opcion == 5:\n",
    "            print(\"Función división entera entre dos numero enteros\", opcion)\n",
    "        elif opcion == 6:\n",
    "            print(\"Función modulo entera entre dos numero enteros\",opcion)   \n",
    "        elif opcion == 7:\n",
    "            print(\"Función potencia entera entre dos numero enteros\",opcion)                                    \n",
    "        elif opcion == 8:\n",
    "            print('Hasta la vista Baby q(❂‿❂)p ')\n",
    "            break\n",
    "        else:\n",
    "            raise ValueError\n",
    "    except ValueError:\n",
    "        print('Ingrese solo números.(1 o 2 o 3 o 4 o 5 o 6 o 7 o 8)')"
   ]
  }
 ],
 "metadata": {
  "interpreter": {
   "hash": "a80adcd2f0b4aebc489315af8ade17975ccd798fd1190addf6ccdb5208431456"
  },
  "kernelspec": {
   "display_name": "Python 3.8.11 64-bit",
   "language": "python",
   "name": "python3"
  },
  "language_info": {
   "codemirror_mode": {
    "name": "ipython",
    "version": 3
   },
   "file_extension": ".py",
   "mimetype": "text/x-python",
   "name": "python",
   "nbconvert_exporter": "python",
   "pygments_lexer": "ipython3",
   "version": "3.8.11"
  },
  "orig_nbformat": 4
 },
 "nbformat": 4,
 "nbformat_minor": 2
}
